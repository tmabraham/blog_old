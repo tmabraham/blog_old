{
 "cells": [
  {
   "cell_type": "markdown",
   "id": "917f53b1-29ae-475a-aad2-73b0a68b515f",
   "metadata": {
    "tags": []
   },
   "source": [
    "\n",
    "# \"Gradio + HuggingFace Spaces: A Tutorial\"\n",
    "> \"Learn about easy ML app development\"\n",
    "\n",
    "- toc: false\n",
    "- branch: master\n",
    "- badges: true\n",
    "- comments: true\n",
    "- categories: [deep learning]\n",
    "- hide: false\n",
    "- permalink: /gradio_hf_spaces_tutorial"
   ]
  },
  {
   "cell_type": "markdown",
   "id": "d745f88d",
   "metadata": {},
   "source": [
    "# Introduction\n",
    "\n",
    "After you train a machine learning model, the next thing to do is showcase it to the world by making a demo. Currently, the easiest way to do so is with [Gradio](https://gradio.app), hosting on [HuggingFace Spaces](https://huggingface.co/spaces). With the Gradio framework deployed on Spaces, it takes <10 minutes to deploy a model! Let's see how we can easily deploy a model for the world to try out with these platforms. We will use a classic CNN pet classifier as an example.\n",
    "\n",
    "# Preliminaries: Training a pet classifier\n",
    "Before we make a demo, we need to have a model to actually demo! Let's quickly train a simple ResNet50 pet classifier on the Oxford Pets dataset using fastai."
   ]
  },
  {
   "cell_type": "code",
   "execution_count": 1,
   "id": "1d9d755d-56f3-4578-a14a-b0a787a32a7d",
   "metadata": {},
   "outputs": [
    {
     "data": {
      "text/html": [
       "\n",
       "<style>\n",
       "    /* Turns off some styling */\n",
       "    progress {\n",
       "        /* gets rid of default border in Firefox and Opera. */\n",
       "        border: none;\n",
       "        /* Needs to be in here for Safari polyfill so background images work as expected. */\n",
       "        background-size: auto;\n",
       "    }\n",
       "    .progress-bar-interrupted, .progress-bar-interrupted::-webkit-progress-bar {\n",
       "        background: #F44336;\n",
       "    }\n",
       "</style>\n"
      ],
      "text/plain": [
       "<IPython.core.display.HTML object>"
      ]
     },
     "metadata": {},
     "output_type": "display_data"
    },
    {
     "data": {
      "text/html": [
       "<table border=\"1\" class=\"dataframe\">\n",
       "  <thead>\n",
       "    <tr style=\"text-align: left;\">\n",
       "      <th>epoch</th>\n",
       "      <th>train_loss</th>\n",
       "      <th>valid_loss</th>\n",
       "      <th>accuracy</th>\n",
       "      <th>time</th>\n",
       "    </tr>\n",
       "  </thead>\n",
       "  <tbody>\n",
       "    <tr>\n",
       "      <td>0</td>\n",
       "      <td>0.973277</td>\n",
       "      <td>0.309940</td>\n",
       "      <td>0.905954</td>\n",
       "      <td>00:32</td>\n",
       "    </tr>\n",
       "  </tbody>\n",
       "</table>"
      ],
      "text/plain": [
       "<IPython.core.display.HTML object>"
      ]
     },
     "metadata": {},
     "output_type": "display_data"
    },
    {
     "data": {
      "text/html": [
       "\n",
       "<style>\n",
       "    /* Turns off some styling */\n",
       "    progress {\n",
       "        /* gets rid of default border in Firefox and Opera. */\n",
       "        border: none;\n",
       "        /* Needs to be in here for Safari polyfill so background images work as expected. */\n",
       "        background-size: auto;\n",
       "    }\n",
       "    .progress-bar-interrupted, .progress-bar-interrupted::-webkit-progress-bar {\n",
       "        background: #F44336;\n",
       "    }\n",
       "</style>\n"
      ],
      "text/plain": [
       "<IPython.core.display.HTML object>"
      ]
     },
     "metadata": {},
     "output_type": "display_data"
    },
    {
     "data": {
      "text/html": [
       "<table border=\"1\" class=\"dataframe\">\n",
       "  <thead>\n",
       "    <tr style=\"text-align: left;\">\n",
       "      <th>epoch</th>\n",
       "      <th>train_loss</th>\n",
       "      <th>valid_loss</th>\n",
       "      <th>accuracy</th>\n",
       "      <th>time</th>\n",
       "    </tr>\n",
       "  </thead>\n",
       "  <tbody>\n",
       "    <tr>\n",
       "      <td>0</td>\n",
       "      <td>0.420781</td>\n",
       "      <td>0.260167</td>\n",
       "      <td>0.910690</td>\n",
       "      <td>00:34</td>\n",
       "    </tr>\n",
       "  </tbody>\n",
       "</table>"
      ],
      "text/plain": [
       "<IPython.core.display.HTML object>"
      ]
     },
     "metadata": {},
     "output_type": "display_data"
    }
   ],
   "source": [
    "from fastai.vision.all import *\n",
    "path = untar_data(URLs.PETS)\n",
    "dls = ImageDataLoaders.from_name_re(path, get_image_files(path/'images'), pat='(.+)_\\d+.jpg', item_tfms=Resize(460), batch_tfms=aug_transforms(size=224, min_scale=0.75))\n",
    "learn = vision_learner(dls, models.resnet50, metrics=accuracy)\n",
    "learn.fine_tune(1)\n",
    "learn.path = Path('.')\n",
    "learn.export()"
   ]
  },
  {
   "cell_type": "markdown",
   "id": "b9ccdfd4-64ab-4bcf-821c-2963411098f1",
   "metadata": {},
   "source": [
    "And with fastai, it's that simple! Learn more about fastai, a simple and flexible PyTorch training framework, over [here](https://docs.fast.ai).\n",
    "\n",
    "# Using Gradio\n",
    "\n",
    "Let's see how to make a demo web app with Gradio. First let's load our model:\n"
   ]
  },
  {
   "cell_type": "code",
   "execution_count": 2,
   "id": "35a7b3f3-7c66-4e2c-b0a0-1a6429a71eee",
   "metadata": {},
   "outputs": [],
   "source": [
    "learn = load_learner('export.pkl')"
   ]
  },
  {
   "cell_type": "markdown",
   "id": "85bfb3cc-dd40-45d0-a0f2-f16891156534",
   "metadata": {},
   "source": [
    "Next, let's define a prediction function our model:"
   ]
  },
  {
   "cell_type": "code",
   "execution_count": 3,
   "id": "079ffc04-a87d-4599-b9f9-df6efb39fae6",
   "metadata": {},
   "outputs": [],
   "source": [
    "labels = learn.dls.vocab\n",
    "def predict(img):\n",
    "    img = PILImage.create(img)\n",
    "    pred,pred_idx,probs = learn.predict(img)\n",
    "    return {labels[i]: float(probs[i]) for i in range(len(labels))}"
   ]
  },
  {
   "cell_type": "markdown",
   "id": "d076afad-152a-4e7e-a0ff-1e1f957a2e9a",
   "metadata": {},
   "source": [
    "Finally, let's import Gradio and use it's functionality to make an interface and launch it. Note that if you are doing this from a notebook, the Gradio demo will also show up within the notebook for you to try interactively (here I just show screenshots)."
   ]
  },
  {
   "cell_type": "code",
   "execution_count": 4,
   "id": "82a95244-afb9-4e0b-92bc-a1f3c38da404",
   "metadata": {},
   "outputs": [
    {
     "name": "stderr",
     "output_type": "stream",
     "text": [
      "/home/tmabraham/anaconda3/envs/blog/lib/python3.9/site-packages/paramiko/transport.py:236: CryptographyDeprecationWarning: Blowfish has been deprecated\n",
      "  \"class\": algorithms.Blowfish,\n"
     ]
    },
    {
     "name": "stdout",
     "output_type": "stream",
     "text": [
      "Running on local URL:  http://127.0.0.1:7860/\n",
      "Running on public URL: https://45690.gradio.app\n",
      "\n",
      "This share link expires in 72 hours. For free permanent hosting, check out Spaces (https://huggingface.co/spaces)\n"
     ]
    },
    {
     "data": {
      "text/html": [
       "\n",
       "        <iframe\n",
       "            width=\"900\"\n",
       "            height=\"500\"\n",
       "            src=\"https://45690.gradio.app\"\n",
       "            frameborder=\"0\"\n",
       "            allowfullscreen\n",
       "            \n",
       "        ></iframe>\n",
       "        "
      ],
      "text/plain": [
       "<IPython.lib.display.IFrame at 0x7f3e36dad880>"
      ]
     },
     "metadata": {},
     "output_type": "display_data"
    },
    {
     "data": {
      "text/plain": [
       "(<fastapi.applications.FastAPI at 0x7f3e38823d90>,\n",
       " 'http://127.0.0.1:7860/',\n",
       " 'https://45690.gradio.app')"
      ]
     },
     "execution_count": 4,
     "metadata": {},
     "output_type": "execute_result"
    }
   ],
   "source": [
    "#hide_output\n",
    "import gradio as gr\n",
    "gr.Interface(fn=predict, inputs=gr.inputs.Image(shape=(512, 512)), outputs=gr.outputs.Label(num_top_classes=3)).launch(share=True)"
   ]
  },
  {
   "cell_type": "markdown",
   "id": "0e312f2a",
   "metadata": {},
   "source": [
    "```\n",
    "Running on local URL:  http://127.0.0.1:7860/\n",
    "Running on public URL: https://10290.gradio.app\n",
    "\n",
    "This share link will expire in 72 hours. To get longer links, send an email to: support@gradio.app\n",
    "```\n",
    "![](gradio_frame_1.png)\n",
    "```\n",
    "(<Flask 'gradio.networking'>, 'http://127.0.0.1:7860/', 'https://10290.gradio.app')\n",
    "```"
   ]
  },
  {
   "cell_type": "markdown",
   "id": "65b81bb4-d8d4-44d9-8806-c48569e7de7f",
   "metadata": {},
   "source": [
    "That's it! The actual creation of the demo takes one line! {% fn 1 %}\n",
    "\n",
    "All Gradio interfaces are created by constructing a `gradio.Interface()` object. As you can see in this example, the `Interface` object takes in the function that we want to make an interface for (usually an ML model inference function), Gradio input components (the number of input components should match the number of parameters of the provided function), and Gradio output components (the number of output components should match the number of values returned by the provided function). Gradio provides components for various types of input and output types. This includes: images (upload, draw, or webcam), video, audio (upload or microphone), textboxes, dataframes, timeseries, generic files, and more! So you should be able to create a Gradio demo for virtually any type of ML task you can think of!\n",
    "\n",
    "After the `gradio.Interface()` object is defined, the interface is launched with the `launch` method. \n",
    "\n",
    "# Optional: customizing our Gradio app\n",
    "\n",
    "Gradio has lots of features that we can use to customize our app. Let's go over a few of these features and add them to our demo. All of these features are arguments for the instantiation of the `Interface` class.\n",
    "\n",
    "First of all, we can pass in a title and description for our app which goes at the top before our input and output components:"
   ]
  },
  {
   "cell_type": "code",
   "execution_count": 5,
   "id": "52e1096f-0bfa-4aab-b4b9-5c126cd2344c",
   "metadata": {},
   "outputs": [],
   "source": [
    "title = \"Pet Breed Classifier\"\n",
    "description = \"A pet breed classifier trained on the Oxford Pets dataset with fastai. Created as a demo for Gradio and HuggingFace Spaces.\""
   ]
  },
  {
   "cell_type": "markdown",
   "id": "6faf636a-08ed-4d0b-8db5-f15a3af47e7f",
   "metadata": {},
   "source": [
    "We can also put a link at the bottom of our demo. Here I will link to this blog post:"
   ]
  },
  {
   "cell_type": "code",
   "execution_count": 6,
   "id": "5669c0d2-d588-4a46-9a81-65d8adffab54",
   "metadata": {},
   "outputs": [],
   "source": [
    "article=\"<p style='text-align: center'><a href='https://tmabraham.github.io/blog/gradio_hf_spaces_tutorial' target='_blank'>Blog post</a></p>\""
   ]
  },
  {
   "cell_type": "markdown",
   "id": "aedcef4d-1e6b-4d7f-bbc5-268ea816e9af",
   "metadata": {},
   "source": [
    "We can also provide some example inputs that people can try out. Here I have provided an example Siamese cat image, which is in the same directory as my code:"
   ]
  },
  {
   "cell_type": "code",
   "execution_count": 7,
   "id": "de1b6b39-ad87-4658-9087-297ef2d67c0c",
   "metadata": {},
   "outputs": [],
   "source": [
    "examples = ['siamese.jpg']"
   ]
  },
  {
   "cell_type": "markdown",
   "id": "5834bd5e-0201-4b6f-bde3-6aed15cdb205",
   "metadata": {},
   "source": [
    "Another interesting feature that Gradio has is the ability for interpretation so that users can understand what parts of the input are responsible for the output. We'll use the default interpretation function provided by Gradio but you can use your own as well:"
   ]
  },
  {
   "cell_type": "code",
   "execution_count": 8,
   "id": "26af1ccc-345d-42c3-b632-15f559ebf561",
   "metadata": {},
   "outputs": [],
   "source": [
    "interpretation='default'"
   ]
  },
  {
   "cell_type": "markdown",
   "id": "796f6e59-6aa9-49bb-bd9c-2cdcba7f9be4",
   "metadata": {},
   "source": [
    "Note that the default interpretation function needs `scikit-image` to be installed. More information on the interpretation feature is provided [here](https://gradio.app/advanced_interface_features/). \n",
    "\n",
    "Gradio also provides a screenshotting feature that can make it really easy to share your examples and results with others. It is enabled by default.\n",
    "\n",
    "Finally, Gradio also supports serving of inference requests with a queue. This can be helpful when your app receives a significant amount of traffic. We'll enable a queue here:"
   ]
  },
  {
   "cell_type": "code",
   "execution_count": 9,
   "id": "66b253f5-8d16-4667-9147-9ab0fa746445",
   "metadata": {},
   "outputs": [],
   "source": [
    "enable_queue=True"
   ]
  },
  {
   "cell_type": "markdown",
   "id": "9a8e09df-3f78-497d-bc90-191586cfe72f",
   "metadata": {},
   "source": [
    "You can also add custom CSS for your Gradio app but we'll not do that here (my CSS skills are essentially non-existent! 😂). Additionally, you can set `live=True` so that it will automatically submit when you make a change to the input, but removes the Submit button so I won't use it for now. \n",
    "\n",
    "Let's put it all together and make our interface with these additional features:"
   ]
  },
  {
   "cell_type": "code",
   "execution_count": 10,
   "id": "feb4710b-fa55-4e18-84c9-b8d2d9cca7e3",
   "metadata": {},
   "outputs": [
    {
     "name": "stderr",
     "output_type": "stream",
     "text": [
      "/home/tmabraham/anaconda3/envs/blog/lib/python3.9/site-packages/gradio/interface.py:419: UserWarning: The `enable_queue` parameter in the `Interface`will be deprecated and may not work properly. Please use the `enable_queue` parameter in `launch()` instead\n",
      "  warnings.warn(\n"
     ]
    },
    {
     "name": "stdout",
     "output_type": "stream",
     "text": [
      "Running on local URL:  http://127.0.0.1:7861/\n",
      "Running on public URL: https://26985.gradio.app\n",
      "\n",
      "This share link expires in 72 hours. For free permanent hosting, check out Spaces (https://huggingface.co/spaces)\n"
     ]
    },
    {
     "data": {
      "text/html": [
       "\n",
       "        <iframe\n",
       "            width=\"900\"\n",
       "            height=\"500\"\n",
       "            src=\"https://26985.gradio.app\"\n",
       "            frameborder=\"0\"\n",
       "            allowfullscreen\n",
       "            \n",
       "        ></iframe>\n",
       "        "
      ],
      "text/plain": [
       "<IPython.lib.display.IFrame at 0x7f3e36d340a0>"
      ]
     },
     "metadata": {},
     "output_type": "display_data"
    },
    {
     "data": {
      "text/plain": [
       "(<fastapi.applications.FastAPI at 0x7f3e38823d90>,\n",
       " 'http://127.0.0.1:7861/',\n",
       " 'https://26985.gradio.app')"
      ]
     },
     "execution_count": 10,
     "metadata": {},
     "output_type": "execute_result"
    }
   ],
   "source": [
    "#hide_output\n",
    "gr.Interface(fn=predict,inputs=gr.inputs.Image(shape=(512, 512)),outputs=gr.outputs.Label(num_top_classes=3),title=title,description=description,article=article,examples=examples,interpretation=interpretation,enable_queue=enable_queue).launch(share=True)"
   ]
  },
  {
   "cell_type": "markdown",
   "id": "79be3892",
   "metadata": {},
   "source": [
    "```\n",
    "Running on local URL:  http://127.0.0.1:7861/\n",
    "Running on public URL: https://30513.gradio.app\n",
    "\n",
    "This share link will expire in 72 hours. To get longer links, send an email to: support@gradio.app\n",
    "```\n",
    "![](gradio_frame_2.png)\n",
    "```\n",
    "(<Flask 'gradio.networking'>,\n",
    " 'http://127.0.0.1:7861/',\n",
    " 'https://30513.gradio.app')\n",
    "```"
   ]
  },
  {
   "cell_type": "markdown",
   "id": "0f83f512-ffae-4224-bd29-e85acb0ac96f",
   "metadata": {},
   "source": [
    "Check the Gradio [documentation](https://gradio.app/docs) for more information on how to customize your interface.\n",
    "\n",
    "Let's put it all into one file which we name `app.py`:\n",
    "```python\n",
    "import gradio as gr\n",
    "from fastai.vision.all import *\n",
    "import skimage\n",
    "\n",
    "learn = load_learner('export.pkl')\n",
    "\n",
    "labels = learn.dls.vocab\n",
    "def predict(img):\n",
    "    img = PILImage.create(img)\n",
    "    pred,pred_idx,probs = learn.predict(img)\n",
    "    return {labels[i]: float(probs[i]) for i in range(len(labels))}\n",
    "\n",
    "title = \"Pet Breed Classifier\"\n",
    "description = \"A pet breed classifier trained on the Oxford Pets dataset with fastai. Created as a demo for Gradio and HuggingFace Spaces.\"\n",
    "article=\"<p style='text-align: center'><a href='https://tmabraham.github.io/blog/gradio_hf_spaces_tutorial' target='_blank'>Blog post</a></p>\"\n",
    "examples = ['siamese.jpg']\n",
    "interpretation='default'\n",
    "enable_queue=True\n",
    "\n",
    "gr.Interface(fn=predict,inputs=gr.inputs.Image(shape=(512, 512)),outputs=gr.outputs.Label(num_top_classes=3),title=title,description=description,article=article,examples=examples,interpretation=interpretation,enable_queue=enable_queue).launch()\n",
    "```\n",
    "\n",
    "Let's also make a `requirements.txt` file which will allow us to install the packages that we need in whatever environment we need:\n",
    "```\n",
    "fastai\n",
    "scikit-image\n",
    "```\n",
    "\n",
    "Now that we have our self-contained web app, we could deploy this on any  webserver or cloud platform that we want. But let's see how we can use HuggingFace Spaces to deploy it.\n",
    "\n",
    "\n",
    "\n",
    "# Using HuggingFace Spaces\n",
    "\n",
    "[HuggingFace Spaces](https://huggingface.co/spaces) is a free-to-use platform for hosting machine learning demos and apps. The Spaces environment provided is a CPU environment with 16 GB RAM and 8 cores. It currently supports the Gradio and Streamlit platforms. Here we will make a Space for our Gradio demo.\n",
    "\n",
    "In order to be able to create a HuggingFace Space, you need to have a HuggingFace account. You can sign up for free [here](https://huggingface.co/join). After signing up, you can create a Space by clicking \"New Space\" on the navigation menu (press on your profile image).\n",
    "\n",
    "![](create_spaces.png)\n",
    "\n",
    "\n",
    "Now you will be shown instructions on how to add your code to this Space from the command line to prepare the demo. Spaces are essentially git repositories (like GitHub) with an `app.py` file from which the demo is prepared. \n",
    "\n",
    "So we can clone the repository to a local directory, \n",
    "```\n",
    "git clone https://huggingface.co/spaces/tmabraham/fastai_pet_classifier\n",
    "```\n",
    "add the `app.py`, `requirements.txt`, `export.pkl`, and `siamese.jpg` files,\n",
    "```\n",
    "cp app.py fastai_pet_classifier/app.py\n",
    "cp requirements.txt fastai_pet_classifier/requirements.txt\n",
    "cp export.pkl fastai_pet_classifier/export.pkl\n",
    "cp siamese.jpg fastai_pet_classifier/siamese.jpg\n",
    "```\n",
    "\n",
    "Now before we commit our files, there is something we need to pay attention to. Our model file `export.pkl` is too big to be handled by `git`. So instead we need to use [git-lfs](https://git-lfs.github.com) which you first need to install. If you are on Debian or Ubuntu, you can directly use `apt-get install git-lfs` (which installs an older version but that's not really an issue). For other Linux distros, you can use [this script](https://gist.github.com/jph00/361a9b868aa3593f3fd8e930d0221266) which [Jeremy Howard](https://twitter.com/jeremyphoward) has prepared. For Windows, you can download and run the installer from [here](https://github.com/git-lfs/git-lfs/releases). For MacOS, you can do `brew install git-lfs`.\n",
    "\n",
    "Once you have installed git-lfs, you can then initialize git-lfs in the repository for the app in the following way:\n",
    "\n",
    "```\n",
    "git lfs install\n",
    "git lfs track \"*.pkl\"\n",
    "git add .gitattributes\n",
    "git commit -m \"update .gitattributes so git lfs will track .pkl files\"\n",
    "```\n",
    "\n",
    "Now, we can commit and push the changes to the Space.\n",
    "```\n",
    "git commit -am \"let's deploy to huggingface spaces\"\n",
    "git push\n",
    "```\n",
    "\n",
    "**Alternatively**, the files can be uploaded via the Spaces UI. When you go to your Space, under \"Files and versions\", there is an \"Add files\" button which you can use to upload your app files.\n",
    "\n",
    "After a few moments, during which the app is being built, our demo should show up on the HuggingFace Space.\n",
    "\n",
    "That's it! In a few minutes, you trained a pet classifier model with fastai, made a demo interface with Gradio, and hosted it for free on a HuggingFace Space! You can try it out right below or you can try it out on HuggingFace Spaces [here](https://huggingface.co/spaces/tmabraham/fastai_pet_classifier). All the files described in this post located [here](https://huggingface.co/spaces/tmabraham/fastai_pet_classifier/tree/main)). {% fn 2 %}"
   ]
  },
  {
   "cell_type": "code",
   "execution_count": 19,
   "id": "f4cb4ce5-acd8-43a7-ab76-af3089786a55",
   "metadata": {},
   "outputs": [
    {
     "data": {
      "text/html": [
       "\n",
       "        <iframe\n",
       "            width=\"900\"\n",
       "            height=\"900\"\n",
       "            src=\"https://hf.space/embed/tmabraham/fastai_pet_classifier/+\"\n",
       "            frameborder=\"0\"\n",
       "            allowfullscreen\n",
       "            \n",
       "        ></iframe>\n",
       "        "
      ],
      "text/plain": [
       "<IPython.lib.display.IFrame at 0x7f3e0697e940>"
      ]
     },
     "metadata": {},
     "output_type": "display_data"
    }
   ],
   "source": [
    "#hide_input\n",
    "from IPython.display import display, HTML, IFrame\n",
    "display(IFrame('https://hf.space/embed/tmabraham/fastai_pet_classifier/+', width=900, height=900))"
   ]
  },
  {
   "cell_type": "markdown",
   "id": "c89349ab-df9d-432c-aa1c-2aa2ea75b0cd",
   "metadata": {},
   "source": [
    "If you are a more advanced user with expertise in web development, you might be interested to know that there is an API available for any Gradio interface (there is a \"view the api\" link at the bottom of the interface). For example, [here](https://hf.space/embed/tmabraham/fastai_pet_classifier/api) is a link to the API docs for my interface. This provides much more flexibility, like interacting with your model very easily in code. For example, here I can take any image URL and get a pet breed prediction with my model."
   ]
  },
  {
   "cell_type": "code",
   "execution_count": 35,
   "id": "3c26fe7c-c3ff-44c3-84fc-219f865f3996",
   "metadata": {},
   "outputs": [
    {
     "name": "stdout",
     "output_type": "stream",
     "text": [
      "The breed of this pet is a British Shorthair:\n"
     ]
    },
    {
     "data": {
      "text/html": [
       "<img src=\"https://petkeen.com/wp-content/uploads/2021/05/grey-cat.jpeg\" width=\"475\"/>"
      ],
      "text/plain": [
       "<IPython.core.display.Image object>"
      ]
     },
     "metadata": {},
     "output_type": "display_data"
    },
    {
     "name": "stdout",
     "output_type": "stream",
     "text": [
      "Original JSON returned from the request:  {\n",
      "  \"data\": [\n",
      "    {\n",
      "      \"label\": \"British_Shorthair\",\n",
      "      \"confidences\": [\n",
      "        {\n",
      "          \"label\": \"British_Shorthair\",\n",
      "          \"confidence\": 0.9997965693473816\n",
      "        },\n",
      "        {\n",
      "          \"label\": \"Russian_Blue\",\n",
      "          \"confidence\": 0.00019805884221568704\n",
      "        },\n",
      "        {\n",
      "          \"label\": \"Sphynx\",\n",
      "          \"confidence\": 2.037774265772896e-06\n",
      "        }\n",
      "      ]\n",
      "    }\n",
      "  ],\n",
      "  \"flag_index\": null,\n",
      "  \"updated_state\": null,\n",
      "  \"durations\": [\n",
      "    0.09037947654724121\n",
      "  ],\n",
      "  \"avg_durations\": [\n",
      "    0.13969146820806688\n",
      "  ]\n",
      "}\n"
     ]
    }
   ],
   "source": [
    "import requests\n",
    "import gradio as gr\n",
    "from IPython.display import Image\n",
    "from IPython.core.display import HTML \n",
    "image_url = 'https://petkeen.com/wp-content/uploads/2021/05/grey-cat.jpeg'\n",
    "data = gr.processing_utils.encode_url_or_file_to_base64(image_url)\n",
    "r = requests.post(url='https://hf.space/embed/tmabraham/fastai_pet_classifier/+/api/predict/', json={\"data\":[data]})\n",
    "\n",
    "\n",
    "print(f\"The breed of this pet is a {(' '.join(r.json()['data'][0]['label'].split('_')))}:\")\n",
    "display(Image(url=image_url, width=475))\n",
    "print('Original JSON returned from the request: ', json.dumps(r.json(), indent=2))"
   ]
  },
  {
   "cell_type": "markdown",
   "id": "12b0b894-e02f-4787-acca-aa9dbf3c25f8",
   "metadata": {},
   "source": [
    "Some examples of using the API in custom websites is provided [here](https://fastai.github.io/tinypets/) (put together by Jeremy Howard and members of the fast.ai community)."
   ]
  },
  {
   "cell_type": "markdown",
   "id": "b01dfbf1-4814-4e9c-b8b4-0c1ea7d7f52d",
   "metadata": {},
   "source": [
    "For more information on Gradio and HuggingFace Spaces, check the relevant docs and forums: \n",
    "\n",
    "* [Gradio documentation](https://gradio.app/docs/)\n",
    "* [HuggingFace Spaces documentation](https://huggingface.co/docs/hub/spaces)\n",
    "* [Gradio Guides](https://gradio.app/guides/)\n",
    "* [HuggingFace Forums (for Spaces and Gradio Q&A)](https://discuss.huggingface.co/)\n",
    "\n",
    "There are so many features of Gradio and Spaces that I haven't mentioned here (like multiple models per demo, the Blocks feature, etc.). Additionally, both Gradio and HuggingFace Spaces are in active development and new, amazing features afe always being added by tje Gradio and HuggingFace teams! For this reason, I also recommend following [HuggingFace](https://twitter.com/huggingface) and [Gradio](https://twitter.com/gradio) on Twitter to hear about the latest updates and newest features.\n",
    "\n",
    "I'll end by sharing a quick example prediction by my pet classifier of our new kitten! Her name is Mimi and, as predicted by my classifier here, she is indeed a Ragdoll kitten!:\n",
    "\n",
    "![](gradio_mimi.png)"
   ]
  },
  {
   "cell_type": "markdown",
   "id": "a55b1bfe",
   "metadata": {},
   "source": [
    "# Acknowledgements\n",
    "\n",
    "Thanks to Zach Mueller, Ahsen Khaliq, Abhishek Thakur, and Jeremy Howard for reviewing my blog post.\n",
    "\n",
    "# Footnotes\n",
    "\n",
    "{{ 'One of the developers of Gradio created a simple Python module to easily create Gradio demos for fastai `Learner` objects. Check it out [here](https://github.com/aliabd/fastgradio). It currently only supports image-to-label interfaces but it could likely be expanded to other tasks fairly easily.'  | fndetail: 1 }}\n",
    "\n",
    "{{ 'Recently, HuggingFace [added](https://github.com/huggingface/huggingface_hub/pull/678) direct support for pushing and loading fastai models to the HuggingFace Hub with the `push_to_hub_fastai` and `from_pretrained_fastai` functions, respectively. This can make creating Spaces much easier, since you can just load it in the Space and not have to add it to the repository with `git-lfs`. See an example of this over [here](https://huggingface.co/spaces/espejelomar/cat_or_dog_fastai/blob/main/app.py).' | fndetail: 2 }}"
   ]
  }
 ],
 "metadata": {
  "kernelspec": {
   "display_name": "Python 3 (ipykernel)",
   "language": "python",
   "name": "python3"
  },
  "language_info": {
   "codemirror_mode": {
    "name": "ipython",
    "version": 3
   },
   "file_extension": ".py",
   "mimetype": "text/x-python",
   "name": "python",
   "nbconvert_exporter": "python",
   "pygments_lexer": "ipython3",
   "version": "3.9.12"
  }
 },
 "nbformat": 4,
 "nbformat_minor": 5
}
